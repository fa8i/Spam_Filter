{
 "cells": [
  {
   "cell_type": "code",
   "execution_count": 15,
   "metadata": {},
   "outputs": [],
   "source": [
    "import requests\n",
    "from bs4 import BeautifulSoup\n",
    "import spacy\n",
    "from nltk.tokenize import word_tokenize\n",
    "from nltk.corpus import stopwords"
   ]
  },
  {
   "cell_type": "code",
   "execution_count": 16,
   "metadata": {},
   "outputs": [],
   "source": [
    "# Descargar el modelo de Spacy\n",
    "nlp = spacy.load(\"es_core_news_sm\")\n",
    "\n",
    "url = \"https://iberdrolaofertas.com/?batch=afiliacion&tsource=28&utm_source=afiliacion&utm_medium=cpl&utm_campaign=mismoprecio24h_sinsubidas\"\n",
    "\n",
    "patrones_spam = [\"precio\", \"ahorra\", \"casino\", \"juega\", \"juego\", \"bono\", \"bienvenida\", \"tarifa\", \"urgente\", \"promoción\", \"promo\", \"obsequio\", \"regalo\", \"oferta\", \"gratis\", \"tiempo limitado\", \"rebajas\", \"contratar\", \"coste\", \"dto\", \"ahorro\", \"ahorrar\", \"factura\", \"consumo\", \"exclusivo\"]"
   ]
  },
  {
   "cell_type": "code",
   "execution_count": 17,
   "metadata": {},
   "outputs": [
    {
     "name": "stdout",
     "output_type": "stream",
     "text": [
      "Número de tokens en la página: 1427\n",
      "¿Es spam? Sí\n",
      "Tokens limpios: ['iberdrola', 'planes', 'luz', 'elige', 'ahorra', 'menú', 'planes', 'luz', 'planes', 'gas', 'calculamos', 'tarifa', 'calcular', 'tarifa', 'quieres', 'contratar', 'luz', 'gas', 'tipo', 'viviendavivienda', 'habitualvivienda', 'fin', 'semana', 'vivienda', 'luz', 'sicompañíaiberdrolaendesanaturgycepsaotra', 'vivienda', 'gas', 'sicompañíaiberdrolaendesanaturgycepsaotra', 'uso', 'vas', 'calienteagua', 'caliente', 'calefacción', 'solo', 'quedan', 'datos', 'ofrecerte', 'mejor', 'tarifa', 'adaptada', 'necesidades', 'marcando', 'casilla', 'das', 'consentimiento', 'cesión', 'datos', 'personales', 'iberdrola', 'clientes', 'consulta', 'política', 'privacidad', 'infocalcular', 'tarifa', 'llamamos', 'gratis', 'planes', 'luz', 'iberdrola', 'cómo', 'ahorrar', 'factura', 'plan', 'cambios', 'horarios', 'despreocúpate', 'subidas', 'bajadas', 'mes', 'dto', 'calcular', 'tarifa', 'mes', 'descuento', 'calcula', 'tarifa', 'quieres', 'contratar', 'luz', 'gas', 'tipo', 'viviendavivienda', 'habitualvivienda', 'fin', 'semana', 'vivienda', 'luz', 'sicompañíaiberdrolaendesanaturgycepsaotra', 'vivienda', 'gas', 'sicompañíaiberdrolaendesanaturgycepsaotra', 'uso', 'vas', 'calienteagua', 'caliente', 'calefacción', 'solo', 'quedan', 'datos', 'ofrecerte', 'mejor', 'tarifa', 'adaptada', 'necesidades', 'marcando', 'casilla', 'das', 'consentimiento', 'cesión', 'datos', 'personales', 'iberdrola', 'clientes', 'consulta', 'política', 'privacidad', 'infocalcular', 'tarifa', 'compara', 'factura', 'factura', 'calculamos', 'ahorro', 'según', 'consumo', 'enviar', 'factura', 'encuentra', 'plan', 'luz', 'medida', 'permanencia', 'plan', 'familia', 'plan', 'estable', 'plan', 'estable', 'calcula', 'consumoplan', 'familias', 'además', 'adicionalahorra', 'horas', 'mayor', 'consumo', 'familiarprecio', 'barato', 'desayuno', 'comida', 'cena', 'fines', 'semana', 'completos', 'ver', 'info', 'dto', 'consumo', 'kwh', 'sopresas', 'precio', 'estable', 'subidas', 'años', 'ahorro', 'horas', 'l', 'v', 'sábados', 'domingos', 'completos', 'luz', 'verde', 'certificadagratis', 'asistencia', 'descuentos', 'adicional', 'contratando', 'servicios', 'adicionales', 'vivienda', 'contrato', 'plan', 'gas', 'plan', 'iberdrola', 'familias', 'menos', 'info', 'calcula', 'cuota', 'dto', 'luzplan', 'estable', 'además', 'dto', 'si', 'contratas', 'pack', 'iberdroladespreocúpate', 'subidas', 'bajadas', 'preciosahora', 'siempre', 'pagarás', 'mismo', 'luz', 'hogarver', 'info', 'sopresas', 'precio', 'estable', 'subidas', 'permanencia', 'date', 'baja', 'quierasgestiona', 'consumo', 'appluz', 'verde', 'certificadagratis', 'asistencia', 'hogarincluye', 'servicios', 'pack', 'iberdrola', 'despreocúpatever', 'menos', 'info', 'calcula', 'cuota', 'consumoplan', 'estable', 'además', 'gratis', 'asistencia', 'hogarla', 'tranquilidad', 'pagar', 'siempre', 'mismoun', 'único', 'precio', 'todas', 'horas', 'días', 'año', 'poder', 'tranquilo', 'ver', 'info', 'dto', 'consumo', 'kwh', 'sopresas', 'precio', 'estable', 'subidas', 'verde', 'certificadagratis', 'asistencia', 'hogarincluye', 'servicios', 'pack', 'iberdrola', 'despreocúpatever', 'menos', 'info', 'calcula', 'cuota', 'ayudamos', 'acalcular', 'mes', 'dto', 'afecten', 'cambios', 'horarioscalcula', 'tarifa', 'contratar', 'servicio', 'protección', 'eléctrica', 'hogar', 'caso', 'contratarlo', 'luz', 'gasinfórmate', 'ahora', 'tarifas', 'ahora', 'dto', 'calcular', 'tarifa', 'soluciones', 'iberdrola', 'cuidar', 'horas', 'día', 'días', 'mesespack', 'iberdrolapack', 'servicios', 'cubierto', 'instalación', 'eléctrica', 'electrodomésticos', 'cocina', 'televisión', 'smarturgencias', 'eléctricas', 'atención', 'menos', 'protección', 'electrodomésticos', 'reparación', 'bricolaje', 'eléctrico', 'mano', 'obra', 'anualmente', 'técnico', 'necesites', 'asesoramiento', 'energético', 'técnico', 'especializado', 'asesorará', 'obtener', 'mayor', 'ahorro', 'posible', 'ver', 'menosmás', 'informaciónincluido', 'contratar', 'planasistencia', 'hogariberdrolaservicio', 'acceso', 'asistencia', 'urgente', 'menos', 'horas', 'asistencia', 'jurídica', 'telefónica', 'reparación', 'reformasmás', 'información', 'ventajas', 'iberdrola', 'electrónica', 'consulta', 'factura', 'online', 'forma', 'rápida', 'ecológica', 'gratuitasin', 'permanencia', 'luz', 'si', 'plan', 'adapta', 'puedes', 'cambiarte', 'plan', 'quierasapp', 'iberdrola', 'gestiona', 'contratos', 'accede', 'facturas', 'consulta', 'consumoconoce', 'consumo', 'aprende', 'reducir', 'consumo', 'ser', 'eficiente', 'gracias', 'asistente', 'smart', 'condicionespromoción', 'desglosada', 'siguiente', 'manera', 'luz', 'descuento', 'consumo', 'meses', 'condicionado', 'contratar', 'servicio', 'protección', 'eléctrica', 'hogar', 'caso', 'contratarlo', 'servicio', 'protección', 'eléctrica', 'hogar', 'disfrutará', 'descuento', 'primeras', 'cuotas', 'adicionalmente', 'aplicará', 'descuento', 'siguiente', 'factura', 'tras', 'cumplir', 'días', 'activación', 'contrato', 'promoción', 'aplicable', 'suministros', 'potencia', 'contratada', 'igual', 'inferior', 'descuento', 'término', 'fijo', 'termino', 'variable', 'meses', 'condicionado', 'contratar', 'pack', 'mantenimiento', 'gas', 'si', 'contrata', 'pack', 'mantenimiento', 'gas', 'adicionalmente', 'aplicará', 'descuento', 'siguiente', 'factura', 'tras', 'cumplir', 'días', 'activación', 'contrato', 'promoción', 'aplicable', 'suministros', 'tarifas', 'peaje', 'válida', 'nuevos', 'clientes', 'contratando', 'cualquiera', 'planes', 'luz', 'gas', 'tarifas', 'acceso', 'duración', 'contrato', 'meses', 'fecha', 'inicio', 'suministro', 'servicio', 'asistencia', 'hogar', 'iberdrola', 'incluido', 'siempre', 'forma', 'gratuita', 'contratos', 'electricidad', 'gas', 'iberdrola', 'compromete', 'mantener', 'precios', 'fijos', 'años', 'compromiso', 'permanencia', 'iberdrola', 'únicamente', 'repercutirá', 'ipc', 'actualizarán', 'conceptos', 'regulados', 'alza', 'baja', 'caso', 'haber', 'modificaciones', 'recuerda', 'además', 'planes', 'medida', 'completamente', 'flexibles', 'puedes', 'cambiarte', 'nuevo', 'plan', 'zquieras', 'salvo', 'plan', 'verano', 'plan', 'invierno', 'viceversa', 'precios', 'añadirá', 'coste', 'regulado', 'asociado', 'mecanismo', 'financiación', 'bono', 'social', 'coste', 'fijo', 'cliente', 'comercialización', 'precios', 'incluyen', 'coste', 'mecanismo', 'ajuste', 'costes', 'producción', 'real', 'pago', 'operador', 'sistema', 'pago', 'operador', 'mercado', 'conceptos', 'regulados', 'verán', 'reflejados', 'conceptos', 'facturación', 'adiciona', 'sección', 'cargos', 'ajuste', 'operador', 'sistema', 'rdl', 'resulta', 'repartir', 'coste', 'mecanismo', 'ajuste', 'liquidaciones', 'realice', 'operador', 'sistema', 'calculará', 'multiplicado', 'consumo', 'facturado', 'coste', 'horario', 'mecanismo', 'publicado', 'diariamente', 'ree', 'según', 'perfil', 'inicial', 'vigente', 'ree', 'correspondiente', 'tarifa', 'acceso', 'suministro', 'precio', 'gas', 'rdl', 'calculará', 'multiplicado', 'consumo', 'facturado', 'coste', 'horario', 'mecanismo', 'publicado', 'diariamente', 'omie', 'según', 'perfil', 'inicial', 'vigente', 'ree', 'correspondiente', 'tarifa', 'acceso', 'suministro', 'cargos', 'normativos', 'aplican', 'baleares', 'canarias', 'ceuta', 'melilla', 'impuestos', 'aplicables', 'cada', 'momento', 'desglosarán', 'factura', 'suministro', 'electricidad', 'impuesto', 'eléctrico', 'importe', 'mínimo', 'según', 'corresponda', 'ley', 'suministro', 'gas', 'impuesto', 'hidrocarburos', 'según', 'corresponda', 'ley', 'adicionalmente', 'aplica', 'iva', 'península', 'baleares', 'según', 'corresponda', 'ley', 'canarias', 'aplica', 'igic', 'según', 'corresponda', 'ley', 'ceuta', 'melilla', 'ipsi', 'según', 'corresponda', 'ley', 'seguros', 'incluyen', 'impuestos', 'ips', 'recargo', 'consorcio', 'compensación', 'seguros', 'comisiones', 'mediación', 'sujetos', 'precios', 'tarifas', 'luz', 'gas', 'ver', 'aquí', 'política', 'somospolítica', 'cookiesaviso', 'somoskonecta', 'digital', 'mk', 'agency', 'serrano', 'planta', 'madrid', 'calcularmi', 'tarifa', 'llamamosgratis', 'información', 'básica', 'iberdrola', 'configuración', 'cookies', 'aceptar', 'todas', 'cookies', 'rechazar', 'todas', 'cookies', 'modal', 'title', 'luz', 'verde', 'calculamos', 'cuotapara', 'ofrecerte', 'mayor', 'ahorro', 'cliente', 'iberdrola', 'síseleccionarcontratar', 'luz', 'gasañadir', 'mantenimientogestión', 'contrato', 'marcando', 'casilla', 'das', 'consentimiento', 'cesión', 'datos', 'personales', 'iberdrola', 'clientes', 'consulta', 'política', 'privacidad', 'info', 'consultar', 'cuota', 'tarifas', 'luz', 'llamamos', 'gratis', 'cliente', 'iberdrola', 'síseleccionarcontratar', 'luz', 'gasañadir', 'mantenimientogestión', 'contrato', 'marcando', 'casilla', 'das', 'consentimiento', 'cesión', 'datos', 'personales', 'iberdrola', 'clientes', 'consulta', 'política', 'privacidad', 'info', 'llámame', 'gratis', 'ofrecemos', 'mejor', 'tarifasegún', 'necesidades', 'hogar', 'quieres', 'contratar', 'luz', 'gas', 'tipo', 'viviendavivienda', 'habitualvivienda', 'fin', 'semana', 'vivienda', 'luz', 'sicompañíaiberdrolaendesanaturgycepsaotra', 'vivienda', 'gas', 'sicompañíaiberdrolaendesanaturgycepsaotra', 'uso', 'vas', 'calienteagua', 'caliente', 'calefacción', 'solo', 'quedan', 'datos', 'ofrecerte', 'mejor', 'tarifa', 'adaptada', 'necesidades', 'marcando', 'casilla', 'das', 'consentimiento', 'cesión', 'datos', 'personales', 'iberdrola', 'clientes', 'consulta', 'política', 'privacidad', 'infocalcular', 'tarifa', 'compara', 'factura', 'factura', 'calculamos', 'ahorro', 'según', 'consumo', 'adjunta', 'aquí', 'factura', 'formato', 'pdf', 'jpg', 'bmp', 'png', 'marcando', 'casilla', 'das', 'consentimiento', 'cesión', 'datos', 'personales', 'iberdrola', 'clientes', 'consulta', 'política', 'privacidad', 'infoenviar', 'factura']\n",
      "Lemas frecuentes: ['luz', 'tarifa', 'plan', 'gas', 'iberdrolar', 'contratar', 'consumo', 'dato', 'factura', 'según', 'precio', 'info', 'servicio', 'contrato', 'consultar', 'dto', 'descuento', 'estable', 'eléctrico', 'suministro', 'coste', 'calcular', 'sicompañíaiberdrolaendesanaturgycepsaotra', 'marcar', 'casilla', 'da', 'consentimiento', 'cesión', 'personal', 'client', 'político', 'privacidad', 'asistencia', 'iberdrola', 'subida', 'mes', 'ahorro', 'hora', 'ver', 'menos', 'cuota', 'pack', 'día', 'hogar', 'mecanismo', 'ley', 'vivienda', 'ofrecerte', 'mejor', 'necesidad', 'gratis', 'facturo', 'calcula', 'además', 'verde', 'protección', 'acceso', 'aplicar', 'cliente', 'operador', 'impuesto', 'correspondo', 'tipo', 'viviendavivienda', 'habitualvivienda', 'fin', 'semana', 'viviendo', 'uso', 'vas', 'calienteagua', 'caliente', 'calefacción', 'solo', 'quedar', 'adaptado', 'infocalcular', 'horario', 'calculamos', 'permanencia', 'familia', 'mayor', 'sopresa', 'año', 'certificadagratis', 'si', 'siempre', 'todo', 'poder', 'caso', 'iberdrolo', 'siguiente', 'adicionalmente', 'aplicable', 'fijo', 'concepto', 'regulado', 'ajuste', 'sistema', 'ree', 'cooki', 'quier', 'llamar', 'cambio', 'bajado', 'compar', 'plar', 'medido', 'consumoplar', 'completo', 'kwh', 'adicional', 'bajo', 'hogarincluir', 'despreocúpatever', 'contratar él', 'ahora', 'electrodoméstico', 'reparación', 'técnico', 'información', 'consulta', 'forma', 'cambiarte', 'condicionado', 'tras', 'cumplir', 'activación', 'promoción', 'mantenimiento', 'nuevo', 'electricidad', 'incluir', 'pago', 'cargo', 'rdl', 'multiplicado', 'facturado', 'publicado', 'diariamente', 'perfil', 'inicial', 'vigente', 'correspondiente', 'balear', 'canarias', 'ceuta', 'melilla', 'seguro', 'aquí', 'síseleccionarcontratar', 'gasañadir', 'mantenimientogestión', 'elegir', 'ahorra', 'menú', 'calculir', 'cómo', 'ahorrar', 'despreocúpatar', 'enviar', 'encuentro', 'adicionalahorrar', 'familiarprecio', 'barato', 'desayuno', 'comida', 'cén', 'fines', 'semán', 'l', 'v', 'sábado', 'domingo', 'luzplan', 'iberdroladespreocúpatir', 'preciosahorar', 'pagarás', 'mismo', 'hogarver', 'permanenciar', 'date', 'quierasgestiona', 'appluz', 'asistenciar', 'hogar él', 'tranquilidad', 'pagar', 'mismoun', 'único', 'tranquilo', 'ayudar', 'acalcular', 'afectar', 'horarioscalcular', 'gasinfórmatar', 'solución', 'cuidar', 'mesespack', 'iberdrolapack', 'cubierto', 'instalación', 'cocín', 'televisión', 'smarturgencia', 'atención', 'bricolaje', 'mano', 'obra', 'anualmente', 'necesit', 'asesoramiento', 'energético', 'especializado', 'asesorar', 'obtener', 'posible', 'menosmás', 'informaciónincluido', 'planasistencia', 'hogariberdrolaservicio', 'urgente', 'jurídico', 'telefónico', 'reformasmás', 'ventaja', 'electrónico', 'onlinar', 'rápido', 'ecológico', 'gratuitasin', 'adapto', 'quierasapp', 'gestionar', 'acceder', 'consumoconocir', 'aprender', 'reducir', 'ser', 'eficiente', 'gracias', 'asistente', 'smart', 'condicionespromoción', 'desglosado', 'manera', 'meses', 'disfrutar', 'primero', 'potencia', 'contratado', 'igual', 'inferior', 'término', 'termino', 'variable', 'peaje', 'válido', 'cualquiera', 'duración', 'fecha', 'inicio', 'incluido', 'gratuito', 'comprometer', 'mantener', 'compromiso', 'únicamente', 'repercutir', 'ipc', 'actualizar', 'alza', 'haber', 'modificación', 'recordar', 'completamente', 'flexible', 'zquiera', 'salvo', 'verano', 'invierno', 'viceversar', 'añadir', 'asociado', 'financiación', 'bono', 'social', 'comercialización', 'producción', 'real', 'mercado', 'reflejado', 'facturación', 'adicionar', 'sección', 'resultar', 'repartir', 'liquidación', 'realizar', 'omie', 'normativo', 'cada', 'momento', 'desglosar', 'importe', 'mínimo', 'hidrocarburo', 'corresponda', 'aplico', 'iva', 'península', 'igic', 'ipsi', 'ips', 'recargo', 'consorcio', 'compensación', 'comisión', 'mediación', 'sujeto', 'política', 'somospolítico', 'cookiesaviso', 'somoskonecta', 'digital', 'mk', 'agency', 'serrano', 'planta', 'madrid', 'calcularmi', 'llamamosgratis', 'básico', 'configuración', 'aceptar', 'rechazar', 'modal', 'title', 'cuotapara', 'llámame', 'ofrecer', 'tarifasegún', 'querer', 'adjunto', 'formato', 'pdf', 'jpg', 'bmp', 'png', 'infoenviar']\n",
      "Patrones encontrados: ['precio', 'tarifa', 'contratar', 'coste', 'dto', 'factura', 'consumo']\n"
     ]
    }
   ],
   "source": [
    "response = requests.get(url)\n",
    "if response.status_code == 200:\n",
    "    contenido_pagina = response.text\n",
    "    soup = BeautifulSoup(contenido_pagina, 'html.parser')\n",
    "    texto_pagina = soup.get_text()\n",
    "\n",
    "    doc = nlp(texto_pagina)                                                     # Tokenizar con Spacy\n",
    "\n",
    "    tokens = [token.text.lower() for token in doc if token.is_alpha]            # Obtener tokens y limpiarlos (quitar stopwords)\n",
    "    stop_words = set(stopwords.words('spanish'))\n",
    "    tokens_clean = [token for token in tokens if token not in stop_words]\n",
    "\n",
    "    lem_tokens = [token.lemma_ for token in nlp(' '.join(tokens_clean))]        # Lemmatización con Spacy de los tokens limpios\n",
    "\n",
    "    conteo = {}                                                                 # Conteo de lem_tokens\n",
    "    for token in lem_tokens:\n",
    "        if token in conteo:\n",
    "            conteo[token] += 1\n",
    "        else:\n",
    "            conteo[token] = 1\n",
    "\n",
    "    # Comparar patrones de spam con los lemas más frecuentes\n",
    "    lemas_mas_frecuentes = [token for token, count in sorted(conteo.items(), key=lambda x: x[1], reverse=True)]\n",
    "    patrones_encontrados = [patron for patron in patrones_spam if patron in lemas_mas_frecuentes[:25]]\n",
    "\n",
    "    print(f\"Número de tokens en la página: {len(tokens)}\")\n",
    "    print(f\"¿Es spam? {'Sí' if patrones_encontrados else 'No'}\")\n",
    "    print(f\"Tokens limpios: {tokens_clean}\")\n",
    "    print(f\"Lemas frecuentes: {lemas_mas_frecuentes}\")\n",
    "    print(f\"Patrones encontrados: {patrones_encontrados}\")\n",
    "else:\n",
    "    print(f\"Error al descargar la página. Código de estado: {response.status_code}\")\n"
   ]
  }
 ],
 "metadata": {
  "kernelspec": {
   "display_name": "base",
   "language": "python",
   "name": "python3"
  },
  "language_info": {
   "codemirror_mode": {
    "name": "ipython",
    "version": 3
   },
   "file_extension": ".py",
   "mimetype": "text/x-python",
   "name": "python",
   "nbconvert_exporter": "python",
   "pygments_lexer": "ipython3",
   "version": "3.11.8"
  }
 },
 "nbformat": 4,
 "nbformat_minor": 2
}
