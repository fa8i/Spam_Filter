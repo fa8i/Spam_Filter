{
 "cells": [
  {
   "cell_type": "code",
   "execution_count": 19,
   "metadata": {},
   "outputs": [],
   "source": [
    "import requests\n",
    "from bs4 import BeautifulSoup\n",
    "import nltk\n",
    "from nltk.tokenize import word_tokenize\n",
    "import spacy"
   ]
  },
  {
   "cell_type": "code",
   "execution_count": 20,
   "metadata": {},
   "outputs": [],
   "source": [
    "# URL de prueba\n",
    "url_prueba = \"https://iberdrolaofertas.com/?batch=afiliacion&tsource=28&utm_source=afiliacion&utm_medium=cpl&utm_campaign=mismoprecio24h_sinsubidas\""
   ]
  },
  {
   "cell_type": "code",
   "execution_count": 21,
   "metadata": {},
   "outputs": [],
   "source": [
    "# Descargar la página web\n",
    "def descargar_pagina(url):\n",
    "    try:\n",
    "        response = requests.get(url)\n",
    "        response.raise_for_status()\n",
    "        return response.text\n",
    "    except requests.exceptions.RequestException as e:\n",
    "        print(f\"Error al descargar la página: {e}\")\n",
    "        return None"
   ]
  },
  {
   "cell_type": "code",
   "execution_count": 22,
   "metadata": {},
   "outputs": [],
   "source": [
    "# Descargar la página web\n",
    "contenido_pagina = descargar_pagina(url_prueba)"
   ]
  },
  {
   "cell_type": "code",
   "execution_count": 23,
   "metadata": {},
   "outputs": [],
   "source": [
    "\n",
    "# Tokenizar y contar tokens\n",
    "def contar_tokens(texto):\n",
    "    tokens = word_tokenize(texto)\n",
    "    return len(tokens), tokens"
   ]
  },
  {
   "cell_type": "code",
   "execution_count": 24,
   "metadata": {},
   "outputs": [],
   "source": [
    "# Analizar tokens en busca de patrones de spam\n",
    "def analizar_spam(tokens, patrones_spam):\n",
    "    spam_count = sum(1 for token in tokens if token.lower() in patrones_spam)\n",
    "    return spam_count > 0"
   ]
  },
  {
   "cell_type": "code",
   "execution_count": 25,
   "metadata": {},
   "outputs": [],
   "source": [
    "# Ejemplo de patrones de spam\n",
    "patrones_spam = [\"precio\", \"ahorra\", \"casino\", \"juega\", \"juego\", \"bono\", \"bienvenida\", \"tarifa\", \"urgente\", \"promoción\", \"promo\", \"obsequio\", \"regalo\", \"oferta\", \"gratis\", \"tiempo limitado\", \"rebajas\", \"contratar\", \"coste\", \"dto\", \"ahorro\", \"ahorrar\", \"factura\", \"consumo\", \"exclusivo\"]"
   ]
  },
  {
   "cell_type": "code",
   "execution_count": 26,
   "metadata": {},
   "outputs": [
    {
     "name": "stdout",
     "output_type": "stream",
     "text": [
      "Número de tokens en la página: 1753\n",
      "¿Es spam? Sí\n"
     ]
    }
   ],
   "source": [
    "if contenido_pagina:\n",
    "    # Analizar el contenido con BeautifulSoup\n",
    "    soup = BeautifulSoup(contenido_pagina, 'html.parser')\n",
    "    texto_pagina = soup.get_text()\n",
    "\n",
    "    # Tokenizar y contar tokens\n",
    "    num_tokens, tokens = contar_tokens(texto_pagina)\n",
    "\n",
    "    # Analizar tokens en busca de patrones de spam\n",
    "    es_spam = analizar_spam(tokens, patrones_spam)\n",
    "\n",
    "    # Imprimir resultados\n",
    "    print(f\"Número de tokens en la página: {num_tokens}\")\n",
    "    print(f\"¿Es spam? {'Sí' if es_spam else 'No'}\")\n"
   ]
  },
  {
   "cell_type": "code",
   "execution_count": null,
   "metadata": {},
   "outputs": [],
   "source": []
  }
 ],
 "metadata": {
  "kernelspec": {
   "display_name": "base",
   "language": "python",
   "name": "python3"
  },
  "language_info": {
   "codemirror_mode": {
    "name": "ipython",
    "version": 3
   },
   "file_extension": ".py",
   "mimetype": "text/x-python",
   "name": "python",
   "nbconvert_exporter": "python",
   "pygments_lexer": "ipython3",
   "version": "3.11.7"
  }
 },
 "nbformat": 4,
 "nbformat_minor": 2
}
